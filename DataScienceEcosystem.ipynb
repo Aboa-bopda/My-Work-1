{
 "cells": [
  {
   "cell_type": "markdown",
   "id": "f49fa7e6-4d82-4348-bef2-1f1225ccafec",
   "metadata": {},
   "source": [
    "# Data Science Tools and Ecosystem"
   ]
  },
  {
   "cell_type": "markdown",
   "id": "bf45b3e0-c74c-4b91-96f1-cad723a59029",
   "metadata": {
    "tags": []
   },
   "source": [
    "## _In this notebook, Data Science Tools and Ecosystem are summarized._"
   ]
  },
  {
   "cell_type": "markdown",
   "id": "828b1938-e51e-4707-b2cd-c5d94721eba9",
   "metadata": {},
   "source": [
    "_Objectives:_\n",
    "\n",
    "+ Java\n",
    "+ Javascript\n",
    "+ Julia\n",
    "+ R\n",
    "+ Python"
   ]
  },
  {
   "cell_type": "markdown",
   "id": "129974b6-c4c2-4b80-89e6-140997e12838",
   "metadata": {},
   "source": [
    "### Some of the popular languages that Data Scientists use are:"
   ]
  },
  {
   "cell_type": "markdown",
   "id": "b63cc9a5-be65-4260-a0c7-9b1b6abef308",
   "metadata": {
    "tags": []
   },
   "source": [
    "1. Python\n",
    "2. SQL\n",
    "3. R\n",
    "4. VBA"
   ]
  },
  {
   "cell_type": "markdown",
   "id": "077396a1-061a-462d-8315-27f6ad49dbc5",
   "metadata": {},
   "source": [
    "### Some of the commonly used libraries used by Data Scientists include:"
   ]
  },
  {
   "cell_type": "markdown",
   "id": "f8ebfe0a-320d-4c51-9058-65e47e38a996",
   "metadata": {
    "tags": []
   },
   "source": [
    "1. NumPy\n",
    "2. Matplotlib\n",
    "3. Pandas\n",
    "4. SciPy"
   ]
  },
  {
   "cell_type": "markdown",
   "id": "f7aae9cd-e1aa-4f0d-9f51-9a6c3c25e43c",
   "metadata": {},
   "source": [
    "| Data Science Tools|\n",
    "|-------------------|\n",
    "| Apache Spark       |\n",
    "| Python             |\n",
    "| R                  |\n"
   ]
  },
  {
   "cell_type": "markdown",
   "id": "e7d026f7-07be-4e44-bc64-914092fd874b",
   "metadata": {},
   "source": [
    "###  Below are a few examples of evaluating arithmetic expressions in Python"
   ]
  },
  {
   "cell_type": "code",
   "execution_count": 7,
   "id": "68e9b336-720b-4006-a37e-40a9c5f5c5f9",
   "metadata": {
    "tags": []
   },
   "outputs": [],
   "source": [
    "# This a simple arithmetic expression to mutiply then add integers"
   ]
  },
  {
   "cell_type": "code",
   "execution_count": 8,
   "id": "abbbc452-3e5f-4b54-9b1b-9c743b07486a",
   "metadata": {
    "tags": []
   },
   "outputs": [
    {
     "data": {
      "text/plain": [
       "17.0"
      ]
     },
     "execution_count": 8,
     "metadata": {},
     "output_type": "execute_result"
    }
   ],
   "source": [
    "(3*4)+5."
   ]
  },
  {
   "cell_type": "code",
   "execution_count": 9,
   "id": "f65c2e7d-5468-4afe-93a6-d2af580fc2cc",
   "metadata": {
    "tags": []
   },
   "outputs": [],
   "source": [
    "# This will convert 200 minutes to hours by diving by 60"
   ]
  },
  {
   "cell_type": "code",
   "execution_count": 10,
   "id": "67e83343-44c7-4b09-be8c-64da72d37c17",
   "metadata": {
    "tags": []
   },
   "outputs": [
    {
     "data": {
      "text/plain": [
       "3.3333333333333335"
      ]
     },
     "execution_count": 10,
     "metadata": {},
     "output_type": "execute_result"
    }
   ],
   "source": [
    "(200)/60"
   ]
  },
  {
   "cell_type": "markdown",
   "id": "7e8f7c82-409c-4b7d-b06f-dd2b1c5e229e",
   "metadata": {},
   "source": [
    "## Author"
   ]
  },
  {
   "cell_type": "markdown",
   "id": "44d9be34-70ce-4614-a4e9-57069fa11b16",
   "metadata": {},
   "source": [
    "_Aboa Anouma Marie Emmanuelle Ledon_"
   ]
  },
  {
   "cell_type": "code",
   "execution_count": null,
   "id": "19a89957-26e9-412d-a6d9-b29107d0c737",
   "metadata": {},
   "outputs": [],
   "source": []
  }
 ],
 "metadata": {
  "kernelspec": {
   "display_name": "Python",
   "language": "python",
   "name": "conda-env-python-py"
  },
  "language_info": {
   "codemirror_mode": {
    "name": "ipython",
    "version": 3
   },
   "file_extension": ".py",
   "mimetype": "text/x-python",
   "name": "python",
   "nbconvert_exporter": "python",
   "pygments_lexer": "ipython3",
   "version": "3.7.12"
  }
 },
 "nbformat": 4,
 "nbformat_minor": 5
}
